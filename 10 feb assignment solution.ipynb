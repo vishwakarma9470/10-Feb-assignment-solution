{
 "cells": [
  {
   "cell_type": "markdown",
   "id": "9d1ec2d2",
   "metadata": {},
   "source": [
    "Q1. Which function is used to open a file? What are the different modes of opening a file? Explain each mode\n",
    "of file opening."
   ]
  },
  {
   "cell_type": "markdown",
   "id": "7a529ffc",
   "metadata": {},
   "source": [
    "the open() function is used to open a file. It takes two arguments: the path to the file, and the mode in which to open the file.\n",
    "\n",
    "The different modes of opening a file are:\n",
    "\n",
    "Read mode ('r'): This is the default mode. It is used to open a file for reading. If the file does not exist, it will result in a FileNotFoundError. When a file is opened in read mode, it is not possible to modify the contents of the file.\n",
    "\n",
    "Write mode ('w'): This mode is used to open a file for writing. If the file does not exist, a new file is created. If the file already exists, its contents are truncated (i.e., deleted) before the new data is written to the file. When a file is opened in write mode, it is not possible to read the contents of the file.\n",
    "\n",
    "Append mode ('a'): This mode is used to open a file for appending new data to the end of the file. If the file does not exist, a new file is created. When a file is opened in append mode, the cursor is positioned at the end of the file, so any new data is written at the end of the existing data.\n",
    "\n",
    "Binary mode ('b'): This mode is used to open a file in binary mode. It is used for files that contain non-text data, such as images, audio files, or binary data. When a file is opened in binary mode, the data is read or written as bytes instead of as text.\n",
    "\n",
    "Text mode ('t'): This mode is used to open a file in text mode. It is used for files that contain text data, such as CSV files or text documents. When a file is opened in text mode, the data is read or written as Unicode characters.\n",
    "\n",
    "\n",
    "\n",
    "Example --   "
   ]
  },
  {
   "cell_type": "code",
   "execution_count": 3,
   "id": "1a45f6f9",
   "metadata": {},
   "outputs": [],
   "source": [
    "# opening a file in write mode\n",
    "file = open(\"test.txt\",\"w\")\n",
    "file.write(\"this is my content for this course\")\n",
    "file.close()"
   ]
  },
  {
   "cell_type": "code",
   "execution_count": 10,
   "id": "611bf8a6",
   "metadata": {},
   "outputs": [
    {
     "name": "stdout",
     "output_type": "stream",
     "text": [
      "this is my content for this course\n"
     ]
    }
   ],
   "source": [
    "# opening a file in read mode\n",
    "file = open(\"test.txt\", \"r\")\n",
    "print(file.read())\n",
    "file.close()"
   ]
  },
  {
   "cell_type": "code",
   "execution_count": 11,
   "id": "72ce6cb1",
   "metadata": {},
   "outputs": [],
   "source": [
    "# opening a file in binary mode \n",
    "with open('test.bin', 'wb') as file:\n",
    "    file.write(b'\\x48\\x65\\x6c\\x6c\\x6f\\x20\\x57\\x6f\\x72\\x6c\\x64\\x21')"
   ]
  },
  {
   "cell_type": "code",
   "execution_count": 16,
   "id": "4ea256dc",
   "metadata": {},
   "outputs": [],
   "source": [
    "# opening a file in append mode\n",
    "with open(\"test.txt\", 'a') as file:\n",
    "    file.write('This is a new line\\n')"
   ]
  },
  {
   "cell_type": "code",
   "execution_count": 15,
   "id": "f3d23123",
   "metadata": {},
   "outputs": [
    {
     "name": "stdout",
     "output_type": "stream",
     "text": [
      "this is my content for this courseThis is a new line\n",
      "\n"
     ]
    }
   ],
   "source": [
    "# opening a file in text mode \n",
    "with open('test.txt', 'r') as file:\n",
    "    # Reading the contents of the file\n",
    "    contents = file.read()\n",
    "    print(contents)"
   ]
  },
  {
   "cell_type": "markdown",
   "id": "12558d79",
   "metadata": {},
   "source": [
    "Q2. Why close() function is used? Why is it important to close a file?"
   ]
  },
  {
   "cell_type": "markdown",
   "id": "d06309ed",
   "metadata": {},
   "source": [
    "The close() function in Python is used to close an open file object. It is important to close a file after we're done reading from or writing to it because:\n",
    "\n",
    "1. It releases any system resources that were being used by the file object. When we open a file, the operating system allocates system resources such as file descriptors to that file. If we don't close the file, those resources remain allocated, which can lead to resource leaks or other issues.\n",
    "\n",
    "2. It flushes any data that is still in the buffer to the file. When we write to a file, the data is often first stored in a buffer rather than being immediately written to the file on disk. This is done for performance reasons, since writing to disk can be slow. However, if we don't flush the buffer or close the file, the data in the buffer may not be written to the file, which can result in data loss.\n",
    "\n",
    "3. It allows other programs to access the file. When we open a file, it may be locked by our program. If we don't close the file, it remains locked and other programs may not be able to access it.\n",
    "\n",
    "In summary, the close() function is important because it releases system resources, flushes the buffer, and allows other programs to access the file. It's a best practice to always close files when we're done working with them to prevent issues and ensure that our code behaves correctly.\n",
    "\n",
    "\n",
    "\n",
    "\n"
   ]
  },
  {
   "cell_type": "markdown",
   "id": "52b3aff8",
   "metadata": {},
   "source": [
    "Q3. Write a python program to create a text file. Write ‘I want to become a Data Scientist’ in that file. Then\n",
    "close the file. Open this file and read the content of the file."
   ]
  },
  {
   "cell_type": "code",
   "execution_count": 17,
   "id": "4ab81074",
   "metadata": {},
   "outputs": [
    {
     "name": "stdout",
     "output_type": "stream",
     "text": [
      "I want to become a Data Scientist\n"
     ]
    }
   ],
   "source": [
    "with open('data_scientist.txt', 'w') as file:\n",
    "    # Write the text to the file\n",
    "    file.write('I want to become a Data Scientist')\n",
    "\n",
    "# Open the file for reading\n",
    "with open('data_scientist.txt', 'r') as file:\n",
    "    contents = file.read()\n",
    "    print(contents)\n"
   ]
  },
  {
   "cell_type": "markdown",
   "id": "718df31e",
   "metadata": {},
   "source": [
    "Q4. Explain the following with python code: read(), readline() and readlines()."
   ]
  },
  {
   "cell_type": "markdown",
   "id": "846bf3eb",
   "metadata": {},
   "source": [
    "Ans --  there are several methods that can be used to read the contents of a file. Here's an explanation of three of them: read(), readline(), and readlines()."
   ]
  },
  {
   "cell_type": "markdown",
   "id": "3170405a",
   "metadata": {},
   "source": [
    "read(): This method reads the entire contents of a file and returns them as a string. Here's an example of how to use it:"
   ]
  },
  {
   "cell_type": "code",
   "execution_count": 20,
   "id": "9b55a726",
   "metadata": {},
   "outputs": [
    {
     "name": "stdout",
     "output_type": "stream",
     "text": [
      "this is my content for this courseThis is a new line\n",
      "This is a new line\n",
      "\n"
     ]
    }
   ],
   "source": [
    "# Open the file for reading\n",
    "with open('test.txt', 'r') as file:\n",
    "    contents = file.read()\n",
    "    print(contents)\n"
   ]
  },
  {
   "cell_type": "markdown",
   "id": "15bf5a7e",
   "metadata": {},
   "source": [
    "readline(): This method reads a single line from a file and returns it as a string. Here's an example of how to use it:"
   ]
  },
  {
   "cell_type": "code",
   "execution_count": 21,
   "id": "127c0f36",
   "metadata": {},
   "outputs": [
    {
     "name": "stdout",
     "output_type": "stream",
     "text": [
      "this is my content for this courseThis is a new line\n",
      "This is a new line\n"
     ]
    }
   ],
   "source": [
    "# Open the file for reading\n",
    "with open('test.txt', 'r') as file:\n",
    "   \n",
    "    line = file.readline()\n",
    "    while line:\n",
    "        print(line.strip())\n",
    "        line = file.readline()\n"
   ]
  },
  {
   "cell_type": "markdown",
   "id": "d3404b93",
   "metadata": {},
   "source": [
    "readlines(): This method reads all of the lines from a file and returns them as a list of strings. Here's an example of how to use it:"
   ]
  },
  {
   "cell_type": "code",
   "execution_count": 22,
   "id": "f156a184",
   "metadata": {},
   "outputs": [
    {
     "name": "stdout",
     "output_type": "stream",
     "text": [
      "this is my content for this courseThis is a new line\n",
      "This is a new line\n"
     ]
    }
   ],
   "source": [
    "# Open the file for reading\n",
    "with open('test.txt', 'r') as file:   \n",
    "    lines = file.readlines()\n",
    "    for line in lines:\n",
    "        print(line.strip())\n"
   ]
  },
  {
   "cell_type": "markdown",
   "id": "f469f9d3",
   "metadata": {},
   "source": [
    "Q5. Explain why with statement is used with open(). What is the advantage of using with statement and\n",
    "open() together?"
   ]
  },
  {
   "cell_type": "markdown",
   "id": "8c9ab6dd",
   "metadata": {},
   "source": [
    "Ans --  the with statement is used to wrap the execution of a block of code within a context handler. The context handler is responsible for defining the setup and teardown actions that should be taken before and after the execution of the block of code.\n",
    "\n",
    "When used with the open() function for file handling, the with statement automatically takes care of closing the file after the block of code is executed. This ensures that the file is properly closed, even in the case of an error or exception, which could occur during the execution of the block of code."
   ]
  },
  {
   "cell_type": "code",
   "execution_count": 24,
   "id": "a7283d7e",
   "metadata": {},
   "outputs": [
    {
     "name": "stdout",
     "output_type": "stream",
     "text": [
      "this is my content for this courseThis is a new line\n",
      "This is a new line\n",
      "\n"
     ]
    }
   ],
   "source": [
    "with open('test.txt', 'r') as f:\n",
    "    data = f.read()\n",
    "    print(data)\n"
   ]
  },
  {
   "cell_type": "markdown",
   "id": "cfa5dcb8",
   "metadata": {},
   "source": [
    "Q6. Explain the write() and writelines() functions. Give a suitable example."
   ]
  },
  {
   "cell_type": "markdown",
   "id": "8abd7e2b",
   "metadata": {},
   "source": [
    "In Python, the write() and writelines() functions are used for writing data to a file.\n",
    "\n",
    "The write() function is used to write a string to a file. It takes a string as an argument and writes it to the file at the current file position. If the file is opened in text mode, the string is written as-is. If the file is opened in binary mode, the string is first encoded into bytes using the default encoding or the encoding specified when the file was opened.\n",
    "\n",
    "Here is an example of using the write() function to write a string to a file:"
   ]
  },
  {
   "cell_type": "code",
   "execution_count": 30,
   "id": "e95a78a5",
   "metadata": {},
   "outputs": [],
   "source": [
    "with open('test.txt', 'w') as f:\n",
    "    f.write('This is an example of using the write() function.\\n')\n"
   ]
  },
  {
   "cell_type": "markdown",
   "id": "c5fff9e8",
   "metadata": {},
   "source": [
    "The writelines() function is used to write a list of strings to a file. It takes a list of strings as an argument and writes each string to the file at the current file position. If the file is opened in text mode, each string is written as-is. If the file is opened in binary mode, each string is first encoded into bytes using the default encoding or the encoding specified when the file was opened."
   ]
  },
  {
   "cell_type": "code",
   "execution_count": 32,
   "id": "533c1fca",
   "metadata": {},
   "outputs": [],
   "source": [
    "with open('test.txt', 'w') as f:\n",
    "    lines = ['Line 1\\n', 'Line 2\\n', 'Line 3\\n']\n",
    "    f.writelines(lines)\n"
   ]
  },
  {
   "cell_type": "code",
   "execution_count": null,
   "id": "f67453f3",
   "metadata": {},
   "outputs": [],
   "source": []
  }
 ],
 "metadata": {
  "kernelspec": {
   "display_name": "Python 3 (ipykernel)",
   "language": "python",
   "name": "python3"
  },
  "language_info": {
   "codemirror_mode": {
    "name": "ipython",
    "version": 3
   },
   "file_extension": ".py",
   "mimetype": "text/x-python",
   "name": "python",
   "nbconvert_exporter": "python",
   "pygments_lexer": "ipython3",
   "version": "3.10.10"
  }
 },
 "nbformat": 4,
 "nbformat_minor": 5
}
